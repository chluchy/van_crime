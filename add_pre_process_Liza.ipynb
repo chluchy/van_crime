{
 "cells": [
  {
   "cell_type": "code",
   "execution_count": 2,
   "metadata": {},
   "outputs": [],
   "source": [
    "import pandas as pd\n",
    "import calendar"
   ]
  },
  {
   "cell_type": "code",
   "execution_count": 7,
   "metadata": {},
   "outputs": [
    {
     "data": {
      "text/html": [
       "<div>\n",
       "<style scoped>\n",
       "    .dataframe tbody tr th:only-of-type {\n",
       "        vertical-align: middle;\n",
       "    }\n",
       "\n",
       "    .dataframe tbody tr th {\n",
       "        vertical-align: top;\n",
       "    }\n",
       "\n",
       "    .dataframe thead th {\n",
       "        text-align: right;\n",
       "    }\n",
       "</style>\n",
       "<table border=\"1\" class=\"dataframe\">\n",
       "  <thead>\n",
       "    <tr style=\"text-align: right;\">\n",
       "      <th></th>\n",
       "      <th>TYPE</th>\n",
       "      <th>YEAR</th>\n",
       "      <th>MONTH</th>\n",
       "      <th>DAY</th>\n",
       "      <th>HOUR</th>\n",
       "      <th>MINUTE</th>\n",
       "      <th>HUNDRED_BLOCK</th>\n",
       "      <th>NEIGHBOURHOOD</th>\n",
       "      <th>X</th>\n",
       "      <th>Y</th>\n",
       "      <th>Latitude</th>\n",
       "      <th>Longitude</th>\n",
       "      <th>DATE</th>\n",
       "    </tr>\n",
       "  </thead>\n",
       "  <tbody>\n",
       "    <tr>\n",
       "      <th>0</th>\n",
       "      <td>Other Theft</td>\n",
       "      <td>2003</td>\n",
       "      <td>5</td>\n",
       "      <td>12</td>\n",
       "      <td>16.0</td>\n",
       "      <td>15.0</td>\n",
       "      <td>9XX TERMINAL AVE</td>\n",
       "      <td>Strathcona</td>\n",
       "      <td>493906.5</td>\n",
       "      <td>5457452.47</td>\n",
       "      <td>49.269802</td>\n",
       "      <td>-123.083763</td>\n",
       "      <td>2003-05-12</td>\n",
       "    </tr>\n",
       "    <tr>\n",
       "      <th>1</th>\n",
       "      <td>Other Theft</td>\n",
       "      <td>2003</td>\n",
       "      <td>5</td>\n",
       "      <td>7</td>\n",
       "      <td>15.0</td>\n",
       "      <td>20.0</td>\n",
       "      <td>9XX TERMINAL AVE</td>\n",
       "      <td>Strathcona</td>\n",
       "      <td>493906.5</td>\n",
       "      <td>5457452.47</td>\n",
       "      <td>49.269802</td>\n",
       "      <td>-123.083763</td>\n",
       "      <td>2003-05-07</td>\n",
       "    </tr>\n",
       "    <tr>\n",
       "      <th>2</th>\n",
       "      <td>Other Theft</td>\n",
       "      <td>2003</td>\n",
       "      <td>4</td>\n",
       "      <td>23</td>\n",
       "      <td>16.0</td>\n",
       "      <td>40.0</td>\n",
       "      <td>9XX TERMINAL AVE</td>\n",
       "      <td>Strathcona</td>\n",
       "      <td>493906.5</td>\n",
       "      <td>5457452.47</td>\n",
       "      <td>49.269802</td>\n",
       "      <td>-123.083763</td>\n",
       "      <td>2003-04-23</td>\n",
       "    </tr>\n",
       "    <tr>\n",
       "      <th>3</th>\n",
       "      <td>Other Theft</td>\n",
       "      <td>2003</td>\n",
       "      <td>4</td>\n",
       "      <td>20</td>\n",
       "      <td>11.0</td>\n",
       "      <td>15.0</td>\n",
       "      <td>9XX TERMINAL AVE</td>\n",
       "      <td>Strathcona</td>\n",
       "      <td>493906.5</td>\n",
       "      <td>5457452.47</td>\n",
       "      <td>49.269802</td>\n",
       "      <td>-123.083763</td>\n",
       "      <td>2003-04-20</td>\n",
       "    </tr>\n",
       "    <tr>\n",
       "      <th>4</th>\n",
       "      <td>Other Theft</td>\n",
       "      <td>2003</td>\n",
       "      <td>4</td>\n",
       "      <td>12</td>\n",
       "      <td>17.0</td>\n",
       "      <td>45.0</td>\n",
       "      <td>9XX TERMINAL AVE</td>\n",
       "      <td>Strathcona</td>\n",
       "      <td>493906.5</td>\n",
       "      <td>5457452.47</td>\n",
       "      <td>49.269802</td>\n",
       "      <td>-123.083763</td>\n",
       "      <td>2003-04-12</td>\n",
       "    </tr>\n",
       "  </tbody>\n",
       "</table>\n",
       "</div>"
      ],
      "text/plain": [
       "          TYPE  YEAR  MONTH  DAY  HOUR  MINUTE     HUNDRED_BLOCK  \\\n",
       "0  Other Theft  2003      5   12  16.0    15.0  9XX TERMINAL AVE   \n",
       "1  Other Theft  2003      5    7  15.0    20.0  9XX TERMINAL AVE   \n",
       "2  Other Theft  2003      4   23  16.0    40.0  9XX TERMINAL AVE   \n",
       "3  Other Theft  2003      4   20  11.0    15.0  9XX TERMINAL AVE   \n",
       "4  Other Theft  2003      4   12  17.0    45.0  9XX TERMINAL AVE   \n",
       "\n",
       "  NEIGHBOURHOOD         X           Y   Latitude   Longitude        DATE  \n",
       "0    Strathcona  493906.5  5457452.47  49.269802 -123.083763  2003-05-12  \n",
       "1    Strathcona  493906.5  5457452.47  49.269802 -123.083763  2003-05-07  \n",
       "2    Strathcona  493906.5  5457452.47  49.269802 -123.083763  2003-04-23  \n",
       "3    Strathcona  493906.5  5457452.47  49.269802 -123.083763  2003-04-20  \n",
       "4    Strathcona  493906.5  5457452.47  49.269802 -123.083763  2003-04-12  "
      ]
     },
     "execution_count": 7,
     "metadata": {},
     "output_type": "execute_result"
    }
   ],
   "source": [
    "data=pd.read_csv('crime_clean.csv',index_col=0)\n",
    "data.head()"
   ]
  },
  {
   "cell_type": "code",
   "execution_count": 16,
   "metadata": {},
   "outputs": [
    {
     "name": "stdout",
     "output_type": "stream",
     "text": [
      "<class 'pandas.core.frame.DataFrame'>\n",
      "Int64Index: 5308 entries, 0 to 514245\n",
      "Data columns (total 1 columns):\n",
      "DATE    5308 non-null datetime64[ns]\n",
      "dtypes: datetime64[ns](1)\n",
      "memory usage: 82.9 KB\n"
     ]
    }
   ],
   "source": [
    "date_df=data[['DATE']]\n",
    "date_df=date_df.drop_duplicates()\n",
    "date_df['DATE']=pd.to_datetime(date_df['DATE']).astype('datetime64[ns]')\n",
    "date_df.info()"
   ]
  },
  {
   "cell_type": "code",
   "execution_count": 17,
   "metadata": {},
   "outputs": [
    {
     "data": {
      "text/html": [
       "<div>\n",
       "<style scoped>\n",
       "    .dataframe tbody tr th:only-of-type {\n",
       "        vertical-align: middle;\n",
       "    }\n",
       "\n",
       "    .dataframe tbody tr th {\n",
       "        vertical-align: top;\n",
       "    }\n",
       "\n",
       "    .dataframe thead th {\n",
       "        text-align: right;\n",
       "    }\n",
       "</style>\n",
       "<table border=\"1\" class=\"dataframe\">\n",
       "  <thead>\n",
       "    <tr style=\"text-align: right;\">\n",
       "      <th></th>\n",
       "      <th>DATE</th>\n",
       "    </tr>\n",
       "  </thead>\n",
       "  <tbody>\n",
       "    <tr>\n",
       "      <th>0</th>\n",
       "      <td>2003-05-12</td>\n",
       "    </tr>\n",
       "    <tr>\n",
       "      <th>1</th>\n",
       "      <td>2003-05-07</td>\n",
       "    </tr>\n",
       "    <tr>\n",
       "      <th>2</th>\n",
       "      <td>2003-04-23</td>\n",
       "    </tr>\n",
       "    <tr>\n",
       "      <th>3</th>\n",
       "      <td>2003-04-20</td>\n",
       "    </tr>\n",
       "    <tr>\n",
       "      <th>4</th>\n",
       "      <td>2003-04-12</td>\n",
       "    </tr>\n",
       "  </tbody>\n",
       "</table>\n",
       "</div>"
      ],
      "text/plain": [
       "        DATE\n",
       "0 2003-05-12\n",
       "1 2003-05-07\n",
       "2 2003-04-23\n",
       "3 2003-04-20\n",
       "4 2003-04-12"
      ]
     },
     "execution_count": 17,
     "metadata": {},
     "output_type": "execute_result"
    }
   ],
   "source": [
    "date_df.head()"
   ]
  },
  {
   "cell_type": "code",
   "execution_count": 18,
   "metadata": {},
   "outputs": [
    {
     "data": {
      "text/html": [
       "<div>\n",
       "<style scoped>\n",
       "    .dataframe tbody tr th:only-of-type {\n",
       "        vertical-align: middle;\n",
       "    }\n",
       "\n",
       "    .dataframe tbody tr th {\n",
       "        vertical-align: top;\n",
       "    }\n",
       "\n",
       "    .dataframe thead th {\n",
       "        text-align: right;\n",
       "    }\n",
       "</style>\n",
       "<table border=\"1\" class=\"dataframe\">\n",
       "  <thead>\n",
       "    <tr style=\"text-align: right;\">\n",
       "      <th></th>\n",
       "      <th>DATE</th>\n",
       "      <th>day_of_week</th>\n",
       "    </tr>\n",
       "  </thead>\n",
       "  <tbody>\n",
       "    <tr>\n",
       "      <th>0</th>\n",
       "      <td>2003-05-12</td>\n",
       "      <td>Monday</td>\n",
       "    </tr>\n",
       "    <tr>\n",
       "      <th>1</th>\n",
       "      <td>2003-05-07</td>\n",
       "      <td>Wednesday</td>\n",
       "    </tr>\n",
       "    <tr>\n",
       "      <th>2</th>\n",
       "      <td>2003-04-23</td>\n",
       "      <td>Wednesday</td>\n",
       "    </tr>\n",
       "    <tr>\n",
       "      <th>3</th>\n",
       "      <td>2003-04-20</td>\n",
       "      <td>Sunday</td>\n",
       "    </tr>\n",
       "    <tr>\n",
       "      <th>4</th>\n",
       "      <td>2003-04-12</td>\n",
       "      <td>Saturday</td>\n",
       "    </tr>\n",
       "  </tbody>\n",
       "</table>\n",
       "</div>"
      ],
      "text/plain": [
       "        DATE day_of_week\n",
       "0 2003-05-12      Monday\n",
       "1 2003-05-07   Wednesday\n",
       "2 2003-04-23   Wednesday\n",
       "3 2003-04-20      Sunday\n",
       "4 2003-04-12    Saturday"
      ]
     },
     "execution_count": 18,
     "metadata": {},
     "output_type": "execute_result"
    }
   ],
   "source": [
    "date_df['day_of_week'] = date_df['DATE'].dt.day_name()\n",
    "date_df.head()\n"
   ]
  },
  {
   "cell_type": "code",
   "execution_count": 24,
   "metadata": {},
   "outputs": [],
   "source": [
    "date_df['Month'] = data['MONTH'].apply(lambda x: calendar.month_name[x])"
   ]
  },
  {
   "cell_type": "code",
   "execution_count": 25,
   "metadata": {},
   "outputs": [
    {
     "data": {
      "text/html": [
       "<div>\n",
       "<style scoped>\n",
       "    .dataframe tbody tr th:only-of-type {\n",
       "        vertical-align: middle;\n",
       "    }\n",
       "\n",
       "    .dataframe tbody tr th {\n",
       "        vertical-align: top;\n",
       "    }\n",
       "\n",
       "    .dataframe thead th {\n",
       "        text-align: right;\n",
       "    }\n",
       "</style>\n",
       "<table border=\"1\" class=\"dataframe\">\n",
       "  <thead>\n",
       "    <tr style=\"text-align: right;\">\n",
       "      <th></th>\n",
       "      <th>DATE</th>\n",
       "      <th>day_of_week</th>\n",
       "      <th>Month</th>\n",
       "    </tr>\n",
       "  </thead>\n",
       "  <tbody>\n",
       "    <tr>\n",
       "      <th>0</th>\n",
       "      <td>2003-05-12</td>\n",
       "      <td>Monday</td>\n",
       "      <td>May</td>\n",
       "    </tr>\n",
       "    <tr>\n",
       "      <th>1</th>\n",
       "      <td>2003-05-07</td>\n",
       "      <td>Wednesday</td>\n",
       "      <td>May</td>\n",
       "    </tr>\n",
       "    <tr>\n",
       "      <th>2</th>\n",
       "      <td>2003-04-23</td>\n",
       "      <td>Wednesday</td>\n",
       "      <td>April</td>\n",
       "    </tr>\n",
       "    <tr>\n",
       "      <th>3</th>\n",
       "      <td>2003-04-20</td>\n",
       "      <td>Sunday</td>\n",
       "      <td>April</td>\n",
       "    </tr>\n",
       "    <tr>\n",
       "      <th>4</th>\n",
       "      <td>2003-04-12</td>\n",
       "      <td>Saturday</td>\n",
       "      <td>April</td>\n",
       "    </tr>\n",
       "  </tbody>\n",
       "</table>\n",
       "</div>"
      ],
      "text/plain": [
       "        DATE day_of_week  Month\n",
       "0 2003-05-12      Monday    May\n",
       "1 2003-05-07   Wednesday    May\n",
       "2 2003-04-23   Wednesday  April\n",
       "3 2003-04-20      Sunday  April\n",
       "4 2003-04-12    Saturday  April"
      ]
     },
     "execution_count": 25,
     "metadata": {},
     "output_type": "execute_result"
    }
   ],
   "source": [
    "date_df.head()"
   ]
  },
  {
   "cell_type": "code",
   "execution_count": 26,
   "metadata": {},
   "outputs": [],
   "source": [
    "date_df.to_csv(\"days_of_week.csv\")"
   ]
  },
  {
   "cell_type": "code",
   "execution_count": 11,
   "metadata": {},
   "outputs": [],
   "source": [
    "data[['NEIGHBOURHOOD']].drop_duplicates().to_csv('Neigh.csv')"
   ]
  },
  {
   "cell_type": "code",
   "execution_count": 14,
   "metadata": {},
   "outputs": [
    {
     "data": {
      "text/html": [
       "<div>\n",
       "<style scoped>\n",
       "    .dataframe tbody tr th:only-of-type {\n",
       "        vertical-align: middle;\n",
       "    }\n",
       "\n",
       "    .dataframe tbody tr th {\n",
       "        vertical-align: top;\n",
       "    }\n",
       "\n",
       "    .dataframe thead th {\n",
       "        text-align: right;\n",
       "    }\n",
       "</style>\n",
       "<table border=\"1\" class=\"dataframe\">\n",
       "  <thead>\n",
       "    <tr style=\"text-align: right;\">\n",
       "      <th></th>\n",
       "      <th>NEIGHBOURHOOD</th>\n",
       "    </tr>\n",
       "  </thead>\n",
       "  <tbody>\n",
       "    <tr>\n",
       "      <th>0</th>\n",
       "      <td>Strathcona</td>\n",
       "    </tr>\n",
       "    <tr>\n",
       "      <th>6</th>\n",
       "      <td>Kerrisdale</td>\n",
       "    </tr>\n",
       "    <tr>\n",
       "      <th>7</th>\n",
       "      <td>Dunbar-Southlands</td>\n",
       "    </tr>\n",
       "    <tr>\n",
       "      <th>9</th>\n",
       "      <td>Grandview-Woodland</td>\n",
       "    </tr>\n",
       "    <tr>\n",
       "      <th>14</th>\n",
       "      <td>Sunset</td>\n",
       "    </tr>\n",
       "    <tr>\n",
       "      <th>15</th>\n",
       "      <td>West End</td>\n",
       "    </tr>\n",
       "    <tr>\n",
       "      <th>20</th>\n",
       "      <td>Downtown</td>\n",
       "    </tr>\n",
       "    <tr>\n",
       "      <th>39</th>\n",
       "      <td>Hastings-Sunrise</td>\n",
       "    </tr>\n",
       "    <tr>\n",
       "      <th>50</th>\n",
       "      <td>Victoria-Fraserview</td>\n",
       "    </tr>\n",
       "    <tr>\n",
       "      <th>100</th>\n",
       "      <td>Fairview</td>\n",
       "    </tr>\n",
       "    <tr>\n",
       "      <th>102</th>\n",
       "      <td>Kensington-Cedar Cottage</td>\n",
       "    </tr>\n",
       "    <tr>\n",
       "      <th>106</th>\n",
       "      <td>West Point Grey</td>\n",
       "    </tr>\n",
       "    <tr>\n",
       "      <th>125</th>\n",
       "      <td>Shaughnessy</td>\n",
       "    </tr>\n",
       "    <tr>\n",
       "      <th>142</th>\n",
       "      <td>Renfrew-Collingwood</td>\n",
       "    </tr>\n",
       "    <tr>\n",
       "      <th>216</th>\n",
       "      <td>Killarney</td>\n",
       "    </tr>\n",
       "    <tr>\n",
       "      <th>264</th>\n",
       "      <td>Riley Park</td>\n",
       "    </tr>\n",
       "    <tr>\n",
       "      <th>290</th>\n",
       "      <td>Arbutus-Ridge</td>\n",
       "    </tr>\n",
       "    <tr>\n",
       "      <th>458</th>\n",
       "      <td>Mount Pleasant</td>\n",
       "    </tr>\n",
       "    <tr>\n",
       "      <th>491</th>\n",
       "      <td>Kitsilano</td>\n",
       "    </tr>\n",
       "    <tr>\n",
       "      <th>533</th>\n",
       "      <td>South Cambie</td>\n",
       "    </tr>\n",
       "    <tr>\n",
       "      <th>544</th>\n",
       "      <td>Marpole</td>\n",
       "    </tr>\n",
       "    <tr>\n",
       "      <th>581</th>\n",
       "      <td>Oakridge</td>\n",
       "    </tr>\n",
       "  </tbody>\n",
       "</table>\n",
       "</div>"
      ],
      "text/plain": [
       "                NEIGHBOURHOOD\n",
       "0                  Strathcona\n",
       "6                  Kerrisdale\n",
       "7           Dunbar-Southlands\n",
       "9          Grandview-Woodland\n",
       "14                     Sunset\n",
       "15                   West End\n",
       "20                   Downtown\n",
       "39           Hastings-Sunrise\n",
       "50        Victoria-Fraserview\n",
       "100                  Fairview\n",
       "102  Kensington-Cedar Cottage\n",
       "106           West Point Grey\n",
       "125               Shaughnessy\n",
       "142       Renfrew-Collingwood\n",
       "216                 Killarney\n",
       "264                Riley Park\n",
       "290             Arbutus-Ridge\n",
       "458            Mount Pleasant\n",
       "491                 Kitsilano\n",
       "533              South Cambie\n",
       "544                   Marpole\n",
       "581                  Oakridge"
      ]
     },
     "execution_count": 14,
     "metadata": {},
     "output_type": "execute_result"
    }
   ],
   "source": [
    "data[['NEIGHBOURHOOD']].drop_duplicates()"
   ]
  },
  {
   "cell_type": "code",
   "execution_count": 30,
   "metadata": {},
   "outputs": [
    {
     "data": {
      "text/html": [
       "<div>\n",
       "<style scoped>\n",
       "    .dataframe tbody tr th:only-of-type {\n",
       "        vertical-align: middle;\n",
       "    }\n",
       "\n",
       "    .dataframe tbody tr th {\n",
       "        vertical-align: top;\n",
       "    }\n",
       "\n",
       "    .dataframe thead th {\n",
       "        text-align: right;\n",
       "    }\n",
       "</style>\n",
       "<table border=\"1\" class=\"dataframe\">\n",
       "  <thead>\n",
       "    <tr style=\"text-align: right;\">\n",
       "      <th></th>\n",
       "      <th>TYPE</th>\n",
       "      <th>YEAR</th>\n",
       "      <th>MONTH</th>\n",
       "      <th>DAY</th>\n",
       "      <th>HOUR</th>\n",
       "      <th>MINUTE</th>\n",
       "      <th>HUNDRED_BLOCK</th>\n",
       "      <th>name</th>\n",
       "      <th>X</th>\n",
       "      <th>Y</th>\n",
       "      <th>Latitude</th>\n",
       "      <th>Longitude</th>\n",
       "      <th>DATE</th>\n",
       "    </tr>\n",
       "  </thead>\n",
       "  <tbody>\n",
       "    <tr>\n",
       "      <th>0</th>\n",
       "      <td>Other Theft</td>\n",
       "      <td>2003</td>\n",
       "      <td>5</td>\n",
       "      <td>12</td>\n",
       "      <td>16.0</td>\n",
       "      <td>15.0</td>\n",
       "      <td>9XX TERMINAL AVE</td>\n",
       "      <td>Strathcona</td>\n",
       "      <td>493906.5</td>\n",
       "      <td>5457452.47</td>\n",
       "      <td>49.269802</td>\n",
       "      <td>-123.083763</td>\n",
       "      <td>2003-05-12</td>\n",
       "    </tr>\n",
       "    <tr>\n",
       "      <th>1</th>\n",
       "      <td>Other Theft</td>\n",
       "      <td>2003</td>\n",
       "      <td>5</td>\n",
       "      <td>7</td>\n",
       "      <td>15.0</td>\n",
       "      <td>20.0</td>\n",
       "      <td>9XX TERMINAL AVE</td>\n",
       "      <td>Strathcona</td>\n",
       "      <td>493906.5</td>\n",
       "      <td>5457452.47</td>\n",
       "      <td>49.269802</td>\n",
       "      <td>-123.083763</td>\n",
       "      <td>2003-05-07</td>\n",
       "    </tr>\n",
       "    <tr>\n",
       "      <th>2</th>\n",
       "      <td>Other Theft</td>\n",
       "      <td>2003</td>\n",
       "      <td>4</td>\n",
       "      <td>23</td>\n",
       "      <td>16.0</td>\n",
       "      <td>40.0</td>\n",
       "      <td>9XX TERMINAL AVE</td>\n",
       "      <td>Strathcona</td>\n",
       "      <td>493906.5</td>\n",
       "      <td>5457452.47</td>\n",
       "      <td>49.269802</td>\n",
       "      <td>-123.083763</td>\n",
       "      <td>2003-04-23</td>\n",
       "    </tr>\n",
       "    <tr>\n",
       "      <th>3</th>\n",
       "      <td>Other Theft</td>\n",
       "      <td>2003</td>\n",
       "      <td>4</td>\n",
       "      <td>20</td>\n",
       "      <td>11.0</td>\n",
       "      <td>15.0</td>\n",
       "      <td>9XX TERMINAL AVE</td>\n",
       "      <td>Strathcona</td>\n",
       "      <td>493906.5</td>\n",
       "      <td>5457452.47</td>\n",
       "      <td>49.269802</td>\n",
       "      <td>-123.083763</td>\n",
       "      <td>2003-04-20</td>\n",
       "    </tr>\n",
       "    <tr>\n",
       "      <th>4</th>\n",
       "      <td>Other Theft</td>\n",
       "      <td>2003</td>\n",
       "      <td>4</td>\n",
       "      <td>12</td>\n",
       "      <td>17.0</td>\n",
       "      <td>45.0</td>\n",
       "      <td>9XX TERMINAL AVE</td>\n",
       "      <td>Strathcona</td>\n",
       "      <td>493906.5</td>\n",
       "      <td>5457452.47</td>\n",
       "      <td>49.269802</td>\n",
       "      <td>-123.083763</td>\n",
       "      <td>2003-04-12</td>\n",
       "    </tr>\n",
       "  </tbody>\n",
       "</table>\n",
       "</div>"
      ],
      "text/plain": [
       "          TYPE  YEAR  MONTH  DAY  HOUR  MINUTE     HUNDRED_BLOCK        name  \\\n",
       "0  Other Theft  2003      5   12  16.0    15.0  9XX TERMINAL AVE  Strathcona   \n",
       "1  Other Theft  2003      5    7  15.0    20.0  9XX TERMINAL AVE  Strathcona   \n",
       "2  Other Theft  2003      4   23  16.0    40.0  9XX TERMINAL AVE  Strathcona   \n",
       "3  Other Theft  2003      4   20  11.0    15.0  9XX TERMINAL AVE  Strathcona   \n",
       "4  Other Theft  2003      4   12  17.0    45.0  9XX TERMINAL AVE  Strathcona   \n",
       "\n",
       "          X           Y   Latitude   Longitude        DATE  \n",
       "0  493906.5  5457452.47  49.269802 -123.083763  2003-05-12  \n",
       "1  493906.5  5457452.47  49.269802 -123.083763  2003-05-07  \n",
       "2  493906.5  5457452.47  49.269802 -123.083763  2003-04-23  \n",
       "3  493906.5  5457452.47  49.269802 -123.083763  2003-04-20  \n",
       "4  493906.5  5457452.47  49.269802 -123.083763  2003-04-12  "
      ]
     },
     "execution_count": 30,
     "metadata": {},
     "output_type": "execute_result"
    }
   ],
   "source": [
    "data=data.rename(columns={\"NEIGHBOURHOOD\":\"name\"})\n",
    "data.head()"
   ]
  },
  {
   "cell_type": "code",
   "execution_count": 18,
   "metadata": {},
   "outputs": [
    {
     "name": "stdout",
     "output_type": "stream",
     "text": [
      "   mapid                      name  \\\n",
      "0     AR             Arbutus-Ridge   \n",
      "1    CBD                  Downtown   \n",
      "2   FAIR                  Fairview   \n",
      "3     GW        Grandview-Woodland   \n",
      "4     HS          Hastings-Sunrise   \n",
      "5   MARP                   Marpole   \n",
      "6     RP                Riley Park   \n",
      "7   SHAU               Shaughnessy   \n",
      "8    STR                Strathcona   \n",
      "9     WE                  West End   \n",
      "10    DS         Dunbar-Southlands   \n",
      "11  KERR                Kerrisdale   \n",
      "12   KIL                 Killarney   \n",
      "13  KITS                 Kitsilano   \n",
      "14    SC              South Cambie   \n",
      "15    VF       Victoria-Fraserview   \n",
      "16    KC  Kensington-Cedar Cottage   \n",
      "17    MP            Mount Pleasant   \n",
      "18   OAK                  Oakridge   \n",
      "19    RC       Renfrew-Collingwood   \n",
      "20   SUN                    Sunset   \n",
      "21   WPG           West Point Grey   \n",
      "\n",
      "                                             geometry  \n",
      "0   POLYGON ((-123.15260 49.25723, -123.15276 49.2...  \n",
      "1   POLYGON ((-123.11227 49.29016, -123.10424 49.2...  \n",
      "2   POLYGON ((-123.14599 49.25712, -123.14540 49.2...  \n",
      "3   POLYGON ((-123.07702 49.29025, -123.06778 49.2...  \n",
      "4   POLYGON ((-123.05649 49.29349, -123.05190 49.2...  \n",
      "5   POLYGON ((-123.10696 49.20416, -123.11153 49.2...  \n",
      "6   POLYGON ((-123.10562 49.23312, -123.11617 49.2...  \n",
      "7   POLYGON ((-123.15527 49.23452, -123.15508 49.2...  \n",
      "8   POLYGON ((-123.09929 49.28927, -123.09390 49.2...  \n",
      "9   POLYGON ((-123.13768 49.27532, -123.14126 49.2...  \n",
      "10  POLYGON ((-123.17017 49.24789, -123.17025 49.2...  \n",
      "11  POLYGON ((-123.17908 49.21556, -123.17870 49.2...  \n",
      "12  POLYGON ((-123.02356 49.20015, -123.03998 49.2...  \n",
      "13  POLYGON ((-123.13768 49.27532, -123.14375 49.2...  \n",
      "14  POLYGON ((-123.11599 49.23794, -123.11617 49.2...  \n",
      "15  POLYGON ((-123.05683 49.20420, -123.05846 49.2...  \n",
      "16  POLYGON ((-123.05659 49.26198, -123.05663 49.2...  \n",
      "17  POLYGON ((-123.10067 49.26913, -123.09692 49.2...  \n",
      "18  POLYGON ((-123.10562 49.23312, -123.10616 49.2...  \n",
      "19  POLYGON ((-123.02356 49.23479, -123.02357 49.2...  \n",
      "20  POLYGON ((-123.10696 49.20416, -123.10616 49.2...  \n",
      "21  POLYGON ((-123.22445 49.27892, -123.20515 49.2...  \n"
     ]
    }
   ],
   "source": [
    "import geopandas as gpd\n",
    "shapefile = gpd.read_file(\"local-area-boundary.shp\")\n",
    "print(shapefile)"
   ]
  },
  {
   "cell_type": "code",
   "execution_count": 23,
   "metadata": {},
   "outputs": [
    {
     "name": "stdout",
     "output_type": "stream",
     "text": [
      "<class 'geopandas.geodataframe.GeoDataFrame'>\n",
      "RangeIndex: 22 entries, 0 to 21\n",
      "Data columns (total 3 columns):\n",
      "mapid       22 non-null object\n",
      "name        22 non-null object\n",
      "geometry    22 non-null geometry\n",
      "dtypes: geometry(1), object(2)\n",
      "memory usage: 608.0+ bytes\n"
     ]
    }
   ],
   "source": [
    "shapefile.info()"
   ]
  },
  {
   "cell_type": "code",
   "execution_count": 37,
   "metadata": {},
   "outputs": [],
   "source": [
    "import shapely.wkt\n",
    "\n",
    "#crs = {'init': 'epsg:4326'}\n",
    "gdf = gpd.GeoDataFrame(data)"
   ]
  },
  {
   "cell_type": "code",
   "execution_count": 35,
   "metadata": {},
   "outputs": [
    {
     "name": "stdout",
     "output_type": "stream",
     "text": [
      "<class 'geopandas.geodataframe.GeoDataFrame'>\n",
      "Int64Index: 469721 entries, 0 to 530651\n",
      "Data columns (total 13 columns):\n",
      "TYPE             469721 non-null object\n",
      "YEAR             469721 non-null int64\n",
      "MONTH            469721 non-null int64\n",
      "DAY              469721 non-null int64\n",
      "HOUR             469721 non-null float64\n",
      "MINUTE           469721 non-null float64\n",
      "HUNDRED_BLOCK    469708 non-null object\n",
      "name             469721 non-null object\n",
      "X                469721 non-null float64\n",
      "Y                469721 non-null float64\n",
      "Latitude         469721 non-null float64\n",
      "Longitude        469721 non-null float64\n",
      "DATE             469721 non-null object\n",
      "dtypes: float64(6), int64(3), object(4)\n",
      "memory usage: 50.2+ MB\n"
     ]
    }
   ],
   "source": []
  },
  {
   "cell_type": "code",
   "execution_count": 38,
   "metadata": {},
   "outputs": [
    {
     "name": "stderr",
     "output_type": "stream",
     "text": [
      "/Users/elizaveta_volkova/anaconda3/lib/python3.7/site-packages/geopandas/tools/sjoin.py:61: UserWarning: CRS of frames being joined does not match!(None != epsg:4326)\n",
      "  \"(%s != %s)\" % (left_df.crs, right_df.crs)\n",
      "/Users/elizaveta_volkova/anaconda3/lib/python3.7/site-packages/geopandas/base.py:104: UserWarning: Cannot generate spatial index: Missing package `rtree`.\n",
      "  warn(\"Cannot generate spatial index: Missing package `rtree`.\")\n"
     ]
    },
    {
     "ename": "AttributeError",
     "evalue": "'NoneType' object has no attribute 'intersection'",
     "output_type": "error",
     "traceback": [
      "\u001b[0;31m---------------------------------------------------------------------------\u001b[0m",
      "\u001b[0;31mAttributeError\u001b[0m                            Traceback (most recent call last)",
      "\u001b[0;32m<ipython-input-38-85d4b535336a>\u001b[0m in \u001b[0;36m<module>\u001b[0;34m\u001b[0m\n\u001b[0;32m----> 1\u001b[0;31m \u001b[0mshp\u001b[0m\u001b[0;34m=\u001b[0m\u001b[0mgpd\u001b[0m\u001b[0;34m.\u001b[0m\u001b[0msjoin\u001b[0m\u001b[0;34m(\u001b[0m\u001b[0mgdf\u001b[0m\u001b[0;34m,\u001b[0m\u001b[0mshapefile\u001b[0m\u001b[0;34m)\u001b[0m\u001b[0;34m\u001b[0m\u001b[0;34m\u001b[0m\u001b[0m\n\u001b[0m",
      "\u001b[0;32m~/anaconda3/lib/python3.7/site-packages/geopandas/tools/sjoin.py\u001b[0m in \u001b[0;36msjoin\u001b[0;34m(left_df, right_df, how, op, lsuffix, rsuffix)\u001b[0m\n\u001b[1;32m    134\u001b[0m         \u001b[0;31m# tree_idx_df == 'left'\u001b[0m\u001b[0;34m\u001b[0m\u001b[0;34m\u001b[0m\u001b[0;34m\u001b[0m\u001b[0m\n\u001b[1;32m    135\u001b[0m         idxmatch = right_df.geometry.apply(lambda x: x.bounds).apply(\n\u001b[0;32m--> 136\u001b[0;31m             \u001b[0;32mlambda\u001b[0m \u001b[0mx\u001b[0m\u001b[0;34m:\u001b[0m \u001b[0mlist\u001b[0m\u001b[0;34m(\u001b[0m\u001b[0mtree_idx\u001b[0m\u001b[0;34m.\u001b[0m\u001b[0mintersection\u001b[0m\u001b[0;34m(\u001b[0m\u001b[0mx\u001b[0m\u001b[0;34m)\u001b[0m\u001b[0;34m)\u001b[0m \u001b[0;32mif\u001b[0m \u001b[0;32mnot\u001b[0m \u001b[0mx\u001b[0m \u001b[0;34m==\u001b[0m \u001b[0;34m(\u001b[0m\u001b[0;34m)\u001b[0m \u001b[0;32melse\u001b[0m \u001b[0;34m[\u001b[0m\u001b[0;34m]\u001b[0m\u001b[0;34m\u001b[0m\u001b[0;34m\u001b[0m\u001b[0m\n\u001b[0m\u001b[1;32m    137\u001b[0m         )\n\u001b[1;32m    138\u001b[0m         \u001b[0midxmatch\u001b[0m \u001b[0;34m=\u001b[0m \u001b[0midxmatch\u001b[0m\u001b[0;34m[\u001b[0m\u001b[0midxmatch\u001b[0m\u001b[0;34m.\u001b[0m\u001b[0mapply\u001b[0m\u001b[0;34m(\u001b[0m\u001b[0mlen\u001b[0m\u001b[0;34m)\u001b[0m \u001b[0;34m>\u001b[0m \u001b[0;36m0\u001b[0m\u001b[0;34m]\u001b[0m\u001b[0;34m\u001b[0m\u001b[0;34m\u001b[0m\u001b[0m\n",
      "\u001b[0;32m~/anaconda3/lib/python3.7/site-packages/pandas/core/series.py\u001b[0m in \u001b[0;36mapply\u001b[0;34m(self, func, convert_dtype, args, **kwds)\u001b[0m\n\u001b[1;32m   3589\u001b[0m             \u001b[0;32melse\u001b[0m\u001b[0;34m:\u001b[0m\u001b[0;34m\u001b[0m\u001b[0;34m\u001b[0m\u001b[0m\n\u001b[1;32m   3590\u001b[0m                 \u001b[0mvalues\u001b[0m \u001b[0;34m=\u001b[0m \u001b[0mself\u001b[0m\u001b[0;34m.\u001b[0m\u001b[0mastype\u001b[0m\u001b[0;34m(\u001b[0m\u001b[0mobject\u001b[0m\u001b[0;34m)\u001b[0m\u001b[0;34m.\u001b[0m\u001b[0mvalues\u001b[0m\u001b[0;34m\u001b[0m\u001b[0;34m\u001b[0m\u001b[0m\n\u001b[0;32m-> 3591\u001b[0;31m                 \u001b[0mmapped\u001b[0m \u001b[0;34m=\u001b[0m \u001b[0mlib\u001b[0m\u001b[0;34m.\u001b[0m\u001b[0mmap_infer\u001b[0m\u001b[0;34m(\u001b[0m\u001b[0mvalues\u001b[0m\u001b[0;34m,\u001b[0m \u001b[0mf\u001b[0m\u001b[0;34m,\u001b[0m \u001b[0mconvert\u001b[0m\u001b[0;34m=\u001b[0m\u001b[0mconvert_dtype\u001b[0m\u001b[0;34m)\u001b[0m\u001b[0;34m\u001b[0m\u001b[0;34m\u001b[0m\u001b[0m\n\u001b[0m\u001b[1;32m   3592\u001b[0m \u001b[0;34m\u001b[0m\u001b[0m\n\u001b[1;32m   3593\u001b[0m         \u001b[0;32mif\u001b[0m \u001b[0mlen\u001b[0m\u001b[0;34m(\u001b[0m\u001b[0mmapped\u001b[0m\u001b[0;34m)\u001b[0m \u001b[0;32mand\u001b[0m \u001b[0misinstance\u001b[0m\u001b[0;34m(\u001b[0m\u001b[0mmapped\u001b[0m\u001b[0;34m[\u001b[0m\u001b[0;36m0\u001b[0m\u001b[0;34m]\u001b[0m\u001b[0;34m,\u001b[0m \u001b[0mSeries\u001b[0m\u001b[0;34m)\u001b[0m\u001b[0;34m:\u001b[0m\u001b[0;34m\u001b[0m\u001b[0;34m\u001b[0m\u001b[0m\n",
      "\u001b[0;32mpandas/_libs/lib.pyx\u001b[0m in \u001b[0;36mpandas._libs.lib.map_infer\u001b[0;34m()\u001b[0m\n",
      "\u001b[0;32m~/anaconda3/lib/python3.7/site-packages/geopandas/tools/sjoin.py\u001b[0m in \u001b[0;36m<lambda>\u001b[0;34m(x)\u001b[0m\n\u001b[1;32m    134\u001b[0m         \u001b[0;31m# tree_idx_df == 'left'\u001b[0m\u001b[0;34m\u001b[0m\u001b[0;34m\u001b[0m\u001b[0;34m\u001b[0m\u001b[0m\n\u001b[1;32m    135\u001b[0m         idxmatch = right_df.geometry.apply(lambda x: x.bounds).apply(\n\u001b[0;32m--> 136\u001b[0;31m             \u001b[0;32mlambda\u001b[0m \u001b[0mx\u001b[0m\u001b[0;34m:\u001b[0m \u001b[0mlist\u001b[0m\u001b[0;34m(\u001b[0m\u001b[0mtree_idx\u001b[0m\u001b[0;34m.\u001b[0m\u001b[0mintersection\u001b[0m\u001b[0;34m(\u001b[0m\u001b[0mx\u001b[0m\u001b[0;34m)\u001b[0m\u001b[0;34m)\u001b[0m \u001b[0;32mif\u001b[0m \u001b[0;32mnot\u001b[0m \u001b[0mx\u001b[0m \u001b[0;34m==\u001b[0m \u001b[0;34m(\u001b[0m\u001b[0;34m)\u001b[0m \u001b[0;32melse\u001b[0m \u001b[0;34m[\u001b[0m\u001b[0;34m]\u001b[0m\u001b[0;34m\u001b[0m\u001b[0;34m\u001b[0m\u001b[0m\n\u001b[0m\u001b[1;32m    137\u001b[0m         )\n\u001b[1;32m    138\u001b[0m         \u001b[0midxmatch\u001b[0m \u001b[0;34m=\u001b[0m \u001b[0midxmatch\u001b[0m\u001b[0;34m[\u001b[0m\u001b[0midxmatch\u001b[0m\u001b[0;34m.\u001b[0m\u001b[0mapply\u001b[0m\u001b[0;34m(\u001b[0m\u001b[0mlen\u001b[0m\u001b[0;34m)\u001b[0m \u001b[0;34m>\u001b[0m \u001b[0;36m0\u001b[0m\u001b[0;34m]\u001b[0m\u001b[0;34m\u001b[0m\u001b[0;34m\u001b[0m\u001b[0m\n",
      "\u001b[0;31mAttributeError\u001b[0m: 'NoneType' object has no attribute 'intersection'"
     ]
    }
   ],
   "source": [
    "shp=gpd.sjoin(gdf,shapefile)"
   ]
  },
  {
   "cell_type": "code",
   "execution_count": 22,
   "metadata": {},
   "outputs": [
    {
     "ename": "AttributeError",
     "evalue": "'DataFrame' object has no attribute 'to_file'",
     "output_type": "error",
     "traceback": [
      "\u001b[0;31m---------------------------------------------------------------------------\u001b[0m",
      "\u001b[0;31mAttributeError\u001b[0m                            Traceback (most recent call last)",
      "\u001b[0;32m<ipython-input-22-aa5c33b832f0>\u001b[0m in \u001b[0;36m<module>\u001b[0;34m\u001b[0m\n\u001b[0;32m----> 1\u001b[0;31m \u001b[0mshp\u001b[0m\u001b[0;34m.\u001b[0m\u001b[0mto_file\u001b[0m\u001b[0;34m(\u001b[0m\u001b[0;34m\"countries.shp\"\u001b[0m\u001b[0;34m)\u001b[0m\u001b[0;34m\u001b[0m\u001b[0;34m\u001b[0m\u001b[0m\n\u001b[0m",
      "\u001b[0;32m~/anaconda3/lib/python3.7/site-packages/pandas/core/generic.py\u001b[0m in \u001b[0;36m__getattr__\u001b[0;34m(self, name)\u001b[0m\n\u001b[1;32m   5065\u001b[0m             \u001b[0;32mif\u001b[0m \u001b[0mself\u001b[0m\u001b[0;34m.\u001b[0m\u001b[0m_info_axis\u001b[0m\u001b[0;34m.\u001b[0m\u001b[0m_can_hold_identifiers_and_holds_name\u001b[0m\u001b[0;34m(\u001b[0m\u001b[0mname\u001b[0m\u001b[0;34m)\u001b[0m\u001b[0;34m:\u001b[0m\u001b[0;34m\u001b[0m\u001b[0;34m\u001b[0m\u001b[0m\n\u001b[1;32m   5066\u001b[0m                 \u001b[0;32mreturn\u001b[0m \u001b[0mself\u001b[0m\u001b[0;34m[\u001b[0m\u001b[0mname\u001b[0m\u001b[0;34m]\u001b[0m\u001b[0;34m\u001b[0m\u001b[0;34m\u001b[0m\u001b[0m\n\u001b[0;32m-> 5067\u001b[0;31m             \u001b[0;32mreturn\u001b[0m \u001b[0mobject\u001b[0m\u001b[0;34m.\u001b[0m\u001b[0m__getattribute__\u001b[0m\u001b[0;34m(\u001b[0m\u001b[0mself\u001b[0m\u001b[0;34m,\u001b[0m \u001b[0mname\u001b[0m\u001b[0;34m)\u001b[0m\u001b[0;34m\u001b[0m\u001b[0;34m\u001b[0m\u001b[0m\n\u001b[0m\u001b[1;32m   5068\u001b[0m \u001b[0;34m\u001b[0m\u001b[0m\n\u001b[1;32m   5069\u001b[0m     \u001b[0;32mdef\u001b[0m \u001b[0m__setattr__\u001b[0m\u001b[0;34m(\u001b[0m\u001b[0mself\u001b[0m\u001b[0;34m,\u001b[0m \u001b[0mname\u001b[0m\u001b[0;34m,\u001b[0m \u001b[0mvalue\u001b[0m\u001b[0;34m)\u001b[0m\u001b[0;34m:\u001b[0m\u001b[0;34m\u001b[0m\u001b[0;34m\u001b[0m\u001b[0m\n",
      "\u001b[0;31mAttributeError\u001b[0m: 'DataFrame' object has no attribute 'to_file'"
     ]
    }
   ],
   "source": [
    "shp.to_file(\"countries.shp\")"
   ]
  },
  {
   "cell_type": "code",
   "execution_count": 24,
   "metadata": {},
   "outputs": [
    {
     "name": "stdout",
     "output_type": "stream",
     "text": [
      "<class 'pandas.core.frame.DataFrame'>\n",
      "Int64Index: 469721 entries, 0 to 469720\n",
      "Data columns (total 16 columns):\n",
      "TYPE             469721 non-null object\n",
      "YEAR             469721 non-null int64\n",
      "MONTH            469721 non-null int64\n",
      "DAY              469721 non-null int64\n",
      "HOUR             469721 non-null float64\n",
      "MINUTE           469721 non-null float64\n",
      "HUNDRED_BLOCK    469708 non-null object\n",
      "NEIGHBOURHOOD    469721 non-null object\n",
      "X                469721 non-null float64\n",
      "Y                469721 non-null float64\n",
      "Latitude         469721 non-null float64\n",
      "Longitude        469721 non-null float64\n",
      "DATE             469721 non-null object\n",
      "mapid            469721 non-null object\n",
      "name             469721 non-null object\n",
      "geometry         469721 non-null geometry\n",
      "dtypes: float64(6), geometry(1), int64(3), object(6)\n",
      "memory usage: 60.9+ MB\n"
     ]
    }
   ],
   "source": [
    "shp.info()"
   ]
  },
  {
   "cell_type": "code",
   "execution_count": 40,
   "metadata": {},
   "outputs": [
    {
     "data": {
      "text/html": [
       "<div>\n",
       "<style scoped>\n",
       "    .dataframe tbody tr th:only-of-type {\n",
       "        vertical-align: middle;\n",
       "    }\n",
       "\n",
       "    .dataframe tbody tr th {\n",
       "        vertical-align: top;\n",
       "    }\n",
       "\n",
       "    .dataframe thead th {\n",
       "        text-align: right;\n",
       "    }\n",
       "</style>\n",
       "<table border=\"1\" class=\"dataframe\">\n",
       "  <thead>\n",
       "    <tr style=\"text-align: right;\">\n",
       "      <th></th>\n",
       "      <th>MAPID</th>\n",
       "      <th>Name</th>\n",
       "      <th>Geom</th>\n",
       "      <th>geo_point_2d</th>\n",
       "    </tr>\n",
       "  </thead>\n",
       "  <tbody>\n",
       "    <tr>\n",
       "      <th>0</th>\n",
       "      <td>DS</td>\n",
       "      <td>Dunbar-Southlands</td>\n",
       "      <td>{\"type\": \"Polygon\", \"coordinates\": [[[-123.170...</td>\n",
       "      <td>49.2379619063,-123.189546803</td>\n",
       "    </tr>\n",
       "    <tr>\n",
       "      <th>1</th>\n",
       "      <td>KERR</td>\n",
       "      <td>Kerrisdale</td>\n",
       "      <td>{\"type\": \"Polygon\", \"coordinates\": [[[-123.179...</td>\n",
       "      <td>49.2236554855,-123.159576182</td>\n",
       "    </tr>\n",
       "    <tr>\n",
       "      <th>2</th>\n",
       "      <td>KIL</td>\n",
       "      <td>Killarney</td>\n",
       "      <td>{\"type\": \"Polygon\", \"coordinates\": [[[-123.023...</td>\n",
       "      <td>49.2170216717,-123.037647029</td>\n",
       "    </tr>\n",
       "    <tr>\n",
       "      <th>3</th>\n",
       "      <td>KITS</td>\n",
       "      <td>Kitsilano</td>\n",
       "      <td>{\"type\": \"Polygon\", \"coordinates\": [[[-123.137...</td>\n",
       "      <td>49.2675398494,-123.16329474</td>\n",
       "    </tr>\n",
       "    <tr>\n",
       "      <th>4</th>\n",
       "      <td>SC</td>\n",
       "      <td>South Cambie</td>\n",
       "      <td>{\"type\": \"Polygon\", \"coordinates\": [[[-123.115...</td>\n",
       "      <td>49.2455564633,-123.121800916</td>\n",
       "    </tr>\n",
       "  </tbody>\n",
       "</table>\n",
       "</div>"
      ],
      "text/plain": [
       "  MAPID               Name                                               Geom  \\\n",
       "0    DS  Dunbar-Southlands  {\"type\": \"Polygon\", \"coordinates\": [[[-123.170...   \n",
       "1  KERR         Kerrisdale  {\"type\": \"Polygon\", \"coordinates\": [[[-123.179...   \n",
       "2   KIL          Killarney  {\"type\": \"Polygon\", \"coordinates\": [[[-123.023...   \n",
       "3  KITS          Kitsilano  {\"type\": \"Polygon\", \"coordinates\": [[[-123.137...   \n",
       "4    SC       South Cambie  {\"type\": \"Polygon\", \"coordinates\": [[[-123.115...   \n",
       "\n",
       "                   geo_point_2d  \n",
       "0  49.2379619063,-123.189546803  \n",
       "1  49.2236554855,-123.159576182  \n",
       "2  49.2170216717,-123.037647029  \n",
       "3   49.2675398494,-123.16329474  \n",
       "4  49.2455564633,-123.121800916  "
      ]
     },
     "execution_count": 40,
     "metadata": {},
     "output_type": "execute_result"
    }
   ],
   "source": [
    "csv=pd.read_csv('local-area-boundary.csv',sep=';')\n",
    "csv.head()"
   ]
  },
  {
   "cell_type": "code",
   "execution_count": 55,
   "metadata": {},
   "outputs": [
    {
     "data": {
      "text/plain": [
       "'[[-123.17908477783202, 49.215557098384515], [-123.17563629150389, 49.2153701782185], [-123.17217254638669, 49.215278625484125], [-123.17156982421874, 49.21524810790601], [-123.17096710205075, 49.21519851684155], [-123.17037200927732, 49.21512603759349], [-123.16978454589841, 49.21503067016186], [-123.16920471191405, 49.2149162292439], [-123.16864013671872, 49.21477890014234], [-123.16809082031249, 49.21461868285717], [-123.16754913330077, 49.21443939208569], [-123.16702270507811, 49.21424102782788], [-123.16651916503903, 49.21401977538647], [-123.16598510742186, 49.213787078853265], [-123.16542816162107, 49.21357727050365], [-123.1648483276367, 49.213390350337654], [-123.16425323486325, 49.213226318355225], [-123.16365051269528, 49.21308517455639], [-123.16310882568357, 49.21296310424388], [-123.16258239746092, 49.21282196044505], [-123.16207122802732, 49.212661743159906], [-123.16156768798827, 49.21248626708569], [-123.1610870361328, 49.21229171752515], [-123.16061401367183, 49.21208190917553], [-123.1601638793945, 49.21185302733958], [-123.15972900390622, 49.211612701411866], [-123.15931701660155, 49.21135711669506], [-123.15892791748044, 49.21108627318921], [-123.15856170654295, 49.210803985591554], [-123.15821075439452, 49.210506439204835], [-123.15789031982419, 49.21020126342358], [-123.157600402832, 49.209880828853265], [-123.15755462646482, 49.209831237788805], [-123.15750122070311, 49.20978546142162], [-123.15744781494139, 49.209739685054444], [-123.15738677978513, 49.20969390868725], [-123.15732574462888, 49.20965194701733], [-123.15726470947264, 49.20961380004467], [-123.15719604492186, 49.20957565307201], [-123.15712738037107, 49.20954132079661], [-123.15705108642577, 49.20950698852124], [-123.15697479248045, 49.209480285640375], [-123.15689849853513, 49.209453582759515], [-123.1568145751953, 49.209426879878656], [-123.15673065185544, 49.20940780639232], [-123.15664672851561, 49.20938873290601], [-123.15656280517575, 49.20937347411694], [-123.15647125244138, 49.209362030025126], [-123.15638732910155, 49.20935440063062], [-123.15629577636717, 49.20934295653882], [-123.15621185302732, 49.20933151244702], [-123.15612030029294, 49.20931625365794], [-123.15603637695311, 49.209297180171625], [-123.15595245361325, 49.20927429198803], [-123.15588378906247, 49.20925140380443], [-123.1558151245117, 49.209224700923585], [-123.15574645996092, 49.20919799804272], [-123.15567779541014, 49.20916748046459], [-123.15561676025388, 49.2091331481892], [-123.15555572509764, 49.20909881591382], [-123.15549468994138, 49.20906448363843], [-123.15544128417967, 49.20902633666576], [-123.15538787841794, 49.20898437499584], [-123.15534210205077, 49.20894241332592], [-123.15529632568358, 49.208900451656], [-123.15291595458983, 49.207023620601305], [-123.15283966064452, 49.2069587707478], [-123.1527633666992, 49.20689010619701], [-123.15270233154295, 49.20682144164623], [-123.15264129638669, 49.20674896239818], [-123.15258789062497, 49.206672668452875], [-123.1525344848633, 49.206596374507555], [-123.15249633789062, 49.20652008056224], [-123.15246582031249, 49.20643997191967], [-123.15243530273439, 49.20635986327709], [-123.15242004394531, 49.206275939937264], [-123.15238952636717, 49.2061920165974], [-123.15235900878903, 49.206108093257555], [-123.15231323242185, 49.206027984614984], [-123.15226745605467, 49.205944061275154], [-123.15221405029294, 49.205867767329835], [-123.1521530151367, 49.205791473384515], [-123.15208435058592, 49.20571517943921], [-123.15201568603514, 49.20564270019115], [-123.15193939208986, 49.205574035640375], [-123.15185546874997, 49.205505371089586], [-123.1517639160156, 49.20544052123608], [-123.15167236328122, 49.205379486079835], [-123.15157318115232, 49.20532226562084], [-123.15146636962892, 49.20526885985912], [-123.15135955810547, 49.20521926879467], [-123.14993286132814, 49.20480346679271], [-123.14884948730469, 49.20867156982006], [-123.14817810058592, 49.20894622802319], [-123.1486587524414, 49.20946121215406], [-123.14823913574219, 49.21940231322826], [-123.14015197753906, 49.219306945796625], [-123.13959503173827, 49.234272003169686], [-123.15527343749999, 49.2345237731892], [-123.17024993896482, 49.23470306396071], [-123.17870330810545, 49.23472213744702], [-123.17908477783202, 49.215557098384515]]'"
      ]
     },
     "execution_count": 55,
     "metadata": {},
     "output_type": "execute_result"
    }
   ],
   "source": [
    "csv['Geom'][1][36:-2]"
   ]
  },
  {
   "cell_type": "code",
   "execution_count": 43,
   "metadata": {},
   "outputs": [
    {
     "ename": "TypeError",
     "evalue": "Input must be valid geometry objects: {\"type\": \"Polygon\", \"coordinates\": [[[-123.17016601562499, 49.24789047240798], [-123.17024993896482, 49.23470306396071], [-123.17870330810545, 49.23472213744702], [-123.17909240722653, 49.216804504390375], [-123.17908477783202, 49.215557098384515], [-123.17910003662107, 49.215557098384515], [-123.17975616455075, 49.21558761596264], [-123.18041229248044, 49.2156372070271], [-123.1810607910156, 49.21571350097242], [-123.18170166015622, 49.215812683101305], [-123.18232727050778, 49.21593475341382], [-123.18295288085935, 49.21607971190991], [-123.18355560302733, 49.2162475585896], [-123.18415069580075, 49.21643447875562], [-123.1847229003906, 49.21664428710522], [-123.18527984619139, 49.21687316894117], [-123.18581390380857, 49.21712112426342], [-123.18633270263669, 49.217391967769295], [-123.18682098388669, 49.21767807006421], [-123.18728637695311, 49.217979431148194], [-123.18772888183591, 49.21829986571849], [-123.18795013427733, 49.21846389770093], [-123.1881866455078, 49.21861648559156], [-123.18843841552732, 49.21876144408764], [-123.18869781494138, 49.21889877318919], [-123.18896484374999, 49.219024658198975], [-123.18924713134764, 49.219142913814196], [-123.18953704833983, 49.21924972533764], [-123.18983459472653, 49.21934890746656], [-123.19014739990233, 49.219432830806404], [-123.1904602050781, 49.21950912475172], [-123.19077301025388, 49.21957397460523], [-123.19110107421872, 49.21962356566967], [-123.19758605957028, 49.220554351802484], [-123.19785308837889, 49.220600128169664], [-123.19811248779295, 49.22065353393138], [-123.19836425781247, 49.2207183837849], [-123.19861602783202, 49.22079086303296], [-123.19885253906247, 49.2208747863728], [-123.19908905029294, 49.220966339107164], [-123.19931793212889, 49.22106170653881], [-123.19953155517577, 49.22116851806226], [-123.19974517822264, 49.22128295898022], [-123.19994354248044, 49.221405029292725], [-123.20550537109372, 49.22499465941967], [-123.20590972900388, 49.22529983520093], [-123.20629119873045, 49.225616455073975], [-123.20664215087888, 49.22594451903882], [-123.20697021484372, 49.22628784179272], [-123.20726776123045, 49.226638793941156], [-123.20754241943355, 49.227001190181376], [-123.20888519287107, 49.228946685786866], [-123.20916748046872, 49.229259490962654], [-123.2094802856445, 49.22956085204663], [-123.20982360839841, 49.229846954341554], [-123.21018218994138, 49.23012161254467], [-123.21057128906249, 49.230381011958734], [-123.21098327636716, 49.23062515258374], [-123.21141815185544, 49.23085403441967], [-123.219856262207, 49.23502349853101], [-123.22194671630858, 49.236576080318116], [-123.21992492675778, 49.23954772948803], [-123.20859527587888, 49.23518371581616], [-123.20560455322264, 49.237201690669686], [-123.19683074951169, 49.23485565185131], [-123.19685363769528, 49.23651504516186], [-123.19857025146482, 49.23651885985914], [-123.19857025146482, 49.238346099849366], [-123.19685363769528, 49.23847961425365], [-123.1967849731445, 49.24619674682202], [-123.19854736328122, 49.24620819091382], [-123.19858551025389, 49.24620819091383], [-123.19863128662108, 49.24620819091383], [-123.19867706298827, 49.24621200561109], [-123.19871520996091, 49.24621582030837], [-123.1987609863281, 49.24622344970289], [-123.19879913330077, 49.24623107909742], [-123.19884490966795, 49.24623870849194], [-123.1988830566406, 49.24624633788648], [-123.19892120361327, 49.24625778197829], [-123.19895935058591, 49.24627304076734], [-123.19899749755857, 49.246288299556404], [-123.19903564453124, 49.2462997436482], [-123.19906616210935, 49.24631881713453], [-123.20494079589841, 49.24926376342359], [-123.20099639892577, 49.249973297115], [-123.20079040527342, 49.250011444087654], [-123.20057678222655, 49.250038146968514], [-123.20036315917967, 49.25005722045483], [-123.20014190673825, 49.25006866454663], [-123.19992828369138, 49.25007247924389], [-123.19867706298827, 49.25007629394118], [-123.19867706298827, 49.249923706050545], [-123.19660949707028, 49.2499275207478], [-123.19654846191403, 49.25651931762281], [-123.20288085937497, 49.25661468505445], [-123.20321655273436, 49.25814819335523], [-123.1839904785156, 49.25786590575759], [-123.17807006835936, 49.257766723628684], [-123.17810058593747, 49.25716400146071], [-123.17792510986327, 49.25693893432204], [-123.17616271972653, 49.25561141967359], [-123.17501068115232, 49.25408172607007], [-123.17347717285155, 49.25284957885328], [-123.17189788818358, 49.251544952388436], [-123.16960144042967, 49.2489624023396], [-123.17092895507811, 49.249671936031], [-123.17218780517575, 49.25004577636304], [-123.1709518432617, 49.24844741820875], [-123.17051696777341, 49.24809265136304], [-123.17016601562499, 49.24789047240798]]]}",
     "output_type": "error",
     "traceback": [
      "\u001b[0;31m---------------------------------------------------------------------------\u001b[0m",
      "\u001b[0;31mTypeError\u001b[0m                                 Traceback (most recent call last)",
      "\u001b[0;32m<ipython-input-43-5202183897e2>\u001b[0m in \u001b[0;36m<module>\u001b[0;34m\u001b[0m\n\u001b[0;32m----> 1\u001b[0;31m \u001b[0mgdf\u001b[0m \u001b[0;34m=\u001b[0m \u001b[0mgpd\u001b[0m\u001b[0;34m.\u001b[0m\u001b[0mGeoDataFrame\u001b[0m\u001b[0;34m(\u001b[0m\u001b[0mcsv\u001b[0m\u001b[0;34m,\u001b[0m\u001b[0mgeometry\u001b[0m\u001b[0;34m=\u001b[0m\u001b[0;34m'Geom'\u001b[0m\u001b[0;34m)\u001b[0m\u001b[0;34m\u001b[0m\u001b[0;34m\u001b[0m\u001b[0m\n\u001b[0m",
      "\u001b[0;32m~/anaconda3/lib/python3.7/site-packages/geopandas/geodataframe.py\u001b[0m in \u001b[0;36m__init__\u001b[0;34m(self, *args, **kwargs)\u001b[0m\n\u001b[1;32m     87\u001b[0m \u001b[0;34m\u001b[0m\u001b[0m\n\u001b[1;32m     88\u001b[0m         \u001b[0;32mif\u001b[0m \u001b[0mgeometry\u001b[0m \u001b[0;32mis\u001b[0m \u001b[0;32mnot\u001b[0m \u001b[0;32mNone\u001b[0m\u001b[0;34m:\u001b[0m\u001b[0;34m\u001b[0m\u001b[0;34m\u001b[0m\u001b[0m\n\u001b[0;32m---> 89\u001b[0;31m             \u001b[0mself\u001b[0m\u001b[0;34m.\u001b[0m\u001b[0mset_geometry\u001b[0m\u001b[0;34m(\u001b[0m\u001b[0mgeometry\u001b[0m\u001b[0;34m,\u001b[0m \u001b[0minplace\u001b[0m\u001b[0;34m=\u001b[0m\u001b[0;32mTrue\u001b[0m\u001b[0;34m)\u001b[0m\u001b[0;34m\u001b[0m\u001b[0;34m\u001b[0m\u001b[0m\n\u001b[0m\u001b[1;32m     90\u001b[0m         \u001b[0mself\u001b[0m\u001b[0;34m.\u001b[0m\u001b[0m_invalidate_sindex\u001b[0m\u001b[0;34m(\u001b[0m\u001b[0;34m)\u001b[0m\u001b[0;34m\u001b[0m\u001b[0;34m\u001b[0m\u001b[0m\n\u001b[1;32m     91\u001b[0m \u001b[0;34m\u001b[0m\u001b[0m\n",
      "\u001b[0;32m~/anaconda3/lib/python3.7/site-packages/geopandas/geodataframe.py\u001b[0m in \u001b[0;36mset_geometry\u001b[0;34m(self, col, drop, inplace, crs)\u001b[0m\n\u001b[1;32m    179\u001b[0m \u001b[0;34m\u001b[0m\u001b[0m\n\u001b[1;32m    180\u001b[0m         \u001b[0;31m# Check that we are using a listlike of geometries\u001b[0m\u001b[0;34m\u001b[0m\u001b[0;34m\u001b[0m\u001b[0;34m\u001b[0m\u001b[0m\n\u001b[0;32m--> 181\u001b[0;31m         \u001b[0mlevel\u001b[0m \u001b[0;34m=\u001b[0m \u001b[0m_ensure_geometry\u001b[0m\u001b[0;34m(\u001b[0m\u001b[0mlevel\u001b[0m\u001b[0;34m)\u001b[0m\u001b[0;34m\u001b[0m\u001b[0;34m\u001b[0m\u001b[0m\n\u001b[0m\u001b[1;32m    182\u001b[0m         \u001b[0mindex\u001b[0m \u001b[0;34m=\u001b[0m \u001b[0mframe\u001b[0m\u001b[0;34m.\u001b[0m\u001b[0mindex\u001b[0m\u001b[0;34m\u001b[0m\u001b[0;34m\u001b[0m\u001b[0m\n\u001b[1;32m    183\u001b[0m         \u001b[0mframe\u001b[0m\u001b[0;34m[\u001b[0m\u001b[0mgeo_column_name\u001b[0m\u001b[0;34m]\u001b[0m \u001b[0;34m=\u001b[0m \u001b[0mlevel\u001b[0m\u001b[0;34m\u001b[0m\u001b[0;34m\u001b[0m\u001b[0m\n",
      "\u001b[0;32m~/anaconda3/lib/python3.7/site-packages/geopandas/geodataframe.py\u001b[0m in \u001b[0;36m_ensure_geometry\u001b[0;34m(data)\u001b[0m\n\u001b[1;32m     32\u001b[0m             \u001b[0;32mreturn\u001b[0m \u001b[0mGeoSeries\u001b[0m\u001b[0;34m(\u001b[0m\u001b[0mout\u001b[0m\u001b[0;34m,\u001b[0m \u001b[0mindex\u001b[0m\u001b[0;34m=\u001b[0m\u001b[0mdata\u001b[0m\u001b[0;34m.\u001b[0m\u001b[0mindex\u001b[0m\u001b[0;34m,\u001b[0m \u001b[0mname\u001b[0m\u001b[0;34m=\u001b[0m\u001b[0mdata\u001b[0m\u001b[0;34m.\u001b[0m\u001b[0mname\u001b[0m\u001b[0;34m)\u001b[0m\u001b[0;34m\u001b[0m\u001b[0;34m\u001b[0m\u001b[0m\n\u001b[1;32m     33\u001b[0m         \u001b[0;32melse\u001b[0m\u001b[0;34m:\u001b[0m\u001b[0;34m\u001b[0m\u001b[0;34m\u001b[0m\u001b[0m\n\u001b[0;32m---> 34\u001b[0;31m             \u001b[0mout\u001b[0m \u001b[0;34m=\u001b[0m \u001b[0mfrom_shapely\u001b[0m\u001b[0;34m(\u001b[0m\u001b[0mdata\u001b[0m\u001b[0;34m)\u001b[0m\u001b[0;34m\u001b[0m\u001b[0;34m\u001b[0m\u001b[0m\n\u001b[0m\u001b[1;32m     35\u001b[0m             \u001b[0;32mreturn\u001b[0m \u001b[0mout\u001b[0m\u001b[0;34m\u001b[0m\u001b[0;34m\u001b[0m\u001b[0m\n\u001b[1;32m     36\u001b[0m \u001b[0;34m\u001b[0m\u001b[0m\n",
      "\u001b[0;32m~/anaconda3/lib/python3.7/site-packages/geopandas/array.py\u001b[0m in \u001b[0;36mfrom_shapely\u001b[0;34m(data)\u001b[0m\n\u001b[1;32m     88\u001b[0m             \u001b[0mout\u001b[0m\u001b[0;34m.\u001b[0m\u001b[0mappend\u001b[0m\u001b[0;34m(\u001b[0m\u001b[0;32mNone\u001b[0m\u001b[0;34m)\u001b[0m\u001b[0;34m\u001b[0m\u001b[0;34m\u001b[0m\u001b[0m\n\u001b[1;32m     89\u001b[0m         \u001b[0;32melse\u001b[0m\u001b[0;34m:\u001b[0m\u001b[0;34m\u001b[0m\u001b[0;34m\u001b[0m\u001b[0m\n\u001b[0;32m---> 90\u001b[0;31m             \u001b[0;32mraise\u001b[0m \u001b[0mTypeError\u001b[0m\u001b[0;34m(\u001b[0m\u001b[0;34m\"Input must be valid geometry objects: {0}\"\u001b[0m\u001b[0;34m.\u001b[0m\u001b[0mformat\u001b[0m\u001b[0;34m(\u001b[0m\u001b[0mgeom\u001b[0m\u001b[0;34m)\u001b[0m\u001b[0;34m)\u001b[0m\u001b[0;34m\u001b[0m\u001b[0;34m\u001b[0m\u001b[0m\n\u001b[0m\u001b[1;32m     91\u001b[0m \u001b[0;34m\u001b[0m\u001b[0m\n\u001b[1;32m     92\u001b[0m     \u001b[0maout\u001b[0m \u001b[0;34m=\u001b[0m \u001b[0mnp\u001b[0m\u001b[0;34m.\u001b[0m\u001b[0mempty\u001b[0m\u001b[0;34m(\u001b[0m\u001b[0mn\u001b[0m\u001b[0;34m,\u001b[0m \u001b[0mdtype\u001b[0m\u001b[0;34m=\u001b[0m\u001b[0mobject\u001b[0m\u001b[0;34m)\u001b[0m\u001b[0;34m\u001b[0m\u001b[0;34m\u001b[0m\u001b[0m\n",
      "\u001b[0;31mTypeError\u001b[0m: Input must be valid geometry objects: {\"type\": \"Polygon\", \"coordinates\": [[[-123.17016601562499, 49.24789047240798], [-123.17024993896482, 49.23470306396071], [-123.17870330810545, 49.23472213744702], [-123.17909240722653, 49.216804504390375], [-123.17908477783202, 49.215557098384515], [-123.17910003662107, 49.215557098384515], [-123.17975616455075, 49.21558761596264], [-123.18041229248044, 49.2156372070271], [-123.1810607910156, 49.21571350097242], [-123.18170166015622, 49.215812683101305], [-123.18232727050778, 49.21593475341382], [-123.18295288085935, 49.21607971190991], [-123.18355560302733, 49.2162475585896], [-123.18415069580075, 49.21643447875562], [-123.1847229003906, 49.21664428710522], [-123.18527984619139, 49.21687316894117], [-123.18581390380857, 49.21712112426342], [-123.18633270263669, 49.217391967769295], [-123.18682098388669, 49.21767807006421], [-123.18728637695311, 49.217979431148194], [-123.18772888183591, 49.21829986571849], [-123.18795013427733, 49.21846389770093], [-123.1881866455078, 49.21861648559156], [-123.18843841552732, 49.21876144408764], [-123.18869781494138, 49.21889877318919], [-123.18896484374999, 49.219024658198975], [-123.18924713134764, 49.219142913814196], [-123.18953704833983, 49.21924972533764], [-123.18983459472653, 49.21934890746656], [-123.19014739990233, 49.219432830806404], [-123.1904602050781, 49.21950912475172], [-123.19077301025388, 49.21957397460523], [-123.19110107421872, 49.21962356566967], [-123.19758605957028, 49.220554351802484], [-123.19785308837889, 49.220600128169664], [-123.19811248779295, 49.22065353393138], [-123.19836425781247, 49.2207183837849], [-123.19861602783202, 49.22079086303296], [-123.19885253906247, 49.2208747863728], [-123.19908905029294, 49.220966339107164], [-123.19931793212889, 49.22106170653881], [-123.19953155517577, 49.22116851806226], [-123.19974517822264, 49.22128295898022], [-123.19994354248044, 49.221405029292725], [-123.20550537109372, 49.22499465941967], [-123.20590972900388, 49.22529983520093], [-123.20629119873045, 49.225616455073975], [-123.20664215087888, 49.22594451903882], [-123.20697021484372, 49.22628784179272], [-123.20726776123045, 49.226638793941156], [-123.20754241943355, 49.227001190181376], [-123.20888519287107, 49.228946685786866], [-123.20916748046872, 49.229259490962654], [-123.2094802856445, 49.22956085204663], [-123.20982360839841, 49.229846954341554], [-123.21018218994138, 49.23012161254467], [-123.21057128906249, 49.230381011958734], [-123.21098327636716, 49.23062515258374], [-123.21141815185544, 49.23085403441967], [-123.219856262207, 49.23502349853101], [-123.22194671630858, 49.236576080318116], [-123.21992492675778, 49.23954772948803], [-123.20859527587888, 49.23518371581616], [-123.20560455322264, 49.237201690669686], [-123.19683074951169, 49.23485565185131], [-123.19685363769528, 49.23651504516186], [-123.19857025146482, 49.23651885985914], [-123.19857025146482, 49.238346099849366], [-123.19685363769528, 49.23847961425365], [-123.1967849731445, 49.24619674682202], [-123.19854736328122, 49.24620819091382], [-123.19858551025389, 49.24620819091383], [-123.19863128662108, 49.24620819091383], [-123.19867706298827, 49.24621200561109], [-123.19871520996091, 49.24621582030837], [-123.1987609863281, 49.24622344970289], [-123.19879913330077, 49.24623107909742], [-123.19884490966795, 49.24623870849194], [-123.1988830566406, 49.24624633788648], [-123.19892120361327, 49.24625778197829], [-123.19895935058591, 49.24627304076734], [-123.19899749755857, 49.246288299556404], [-123.19903564453124, 49.2462997436482], [-123.19906616210935, 49.24631881713453], [-123.20494079589841, 49.24926376342359], [-123.20099639892577, 49.249973297115], [-123.20079040527342, 49.250011444087654], [-123.20057678222655, 49.250038146968514], [-123.20036315917967, 49.25005722045483], [-123.20014190673825, 49.25006866454663], [-123.19992828369138, 49.25007247924389], [-123.19867706298827, 49.25007629394118], [-123.19867706298827, 49.249923706050545], [-123.19660949707028, 49.2499275207478], [-123.19654846191403, 49.25651931762281], [-123.20288085937497, 49.25661468505445], [-123.20321655273436, 49.25814819335523], [-123.1839904785156, 49.25786590575759], [-123.17807006835936, 49.257766723628684], [-123.17810058593747, 49.25716400146071], [-123.17792510986327, 49.25693893432204], [-123.17616271972653, 49.25561141967359], [-123.17501068115232, 49.25408172607007], [-123.17347717285155, 49.25284957885328], [-123.17189788818358, 49.251544952388436], [-123.16960144042967, 49.2489624023396], [-123.17092895507811, 49.249671936031], [-123.17218780517575, 49.25004577636304], [-123.1709518432617, 49.24844741820875], [-123.17051696777341, 49.24809265136304], [-123.17016601562499, 49.24789047240798]]]}"
     ]
    }
   ],
   "source": [
    "gdf = gpd.GeoDataFrame(csv,geometry='Geom')"
   ]
  },
  {
   "cell_type": "code",
   "execution_count": 42,
   "metadata": {},
   "outputs": [
    {
     "ename": "AttributeError",
     "evalue": "No geometry data set yet (expected in column 'geometry'.",
     "output_type": "error",
     "traceback": [
      "\u001b[0;31m---------------------------------------------------------------------------\u001b[0m",
      "\u001b[0;31mAttributeError\u001b[0m                            Traceback (most recent call last)",
      "\u001b[0;32m<ipython-input-42-bf0b489a4a38>\u001b[0m in \u001b[0;36m<module>\u001b[0;34m\u001b[0m\n\u001b[0;32m----> 1\u001b[0;31m \u001b[0mgdf\u001b[0m\u001b[0;34m.\u001b[0m\u001b[0mto_file\u001b[0m\u001b[0;34m(\u001b[0m\u001b[0;34m\"countries.shp\"\u001b[0m\u001b[0;34m)\u001b[0m\u001b[0;34m\u001b[0m\u001b[0;34m\u001b[0m\u001b[0m\n\u001b[0m",
      "\u001b[0;32m~/anaconda3/lib/python3.7/site-packages/geopandas/geodataframe.py\u001b[0m in \u001b[0;36mto_file\u001b[0;34m(self, filename, driver, schema, index, **kwargs)\u001b[0m\n\u001b[1;32m    531\u001b[0m         \u001b[0;32mfrom\u001b[0m \u001b[0mgeopandas\u001b[0m\u001b[0;34m.\u001b[0m\u001b[0mio\u001b[0m\u001b[0;34m.\u001b[0m\u001b[0mfile\u001b[0m \u001b[0;32mimport\u001b[0m \u001b[0mto_file\u001b[0m\u001b[0;34m\u001b[0m\u001b[0;34m\u001b[0m\u001b[0m\n\u001b[1;32m    532\u001b[0m \u001b[0;34m\u001b[0m\u001b[0m\n\u001b[0;32m--> 533\u001b[0;31m         \u001b[0mto_file\u001b[0m\u001b[0;34m(\u001b[0m\u001b[0mself\u001b[0m\u001b[0;34m,\u001b[0m \u001b[0mfilename\u001b[0m\u001b[0;34m,\u001b[0m \u001b[0mdriver\u001b[0m\u001b[0;34m,\u001b[0m \u001b[0mschema\u001b[0m\u001b[0;34m,\u001b[0m \u001b[0mindex\u001b[0m\u001b[0;34m,\u001b[0m \u001b[0;34m**\u001b[0m\u001b[0mkwargs\u001b[0m\u001b[0;34m)\u001b[0m\u001b[0;34m\u001b[0m\u001b[0;34m\u001b[0m\u001b[0m\n\u001b[0m\u001b[1;32m    534\u001b[0m \u001b[0;34m\u001b[0m\u001b[0m\n\u001b[1;32m    535\u001b[0m     \u001b[0;32mdef\u001b[0m \u001b[0mto_crs\u001b[0m\u001b[0;34m(\u001b[0m\u001b[0mself\u001b[0m\u001b[0;34m,\u001b[0m \u001b[0mcrs\u001b[0m\u001b[0;34m=\u001b[0m\u001b[0;32mNone\u001b[0m\u001b[0;34m,\u001b[0m \u001b[0mepsg\u001b[0m\u001b[0;34m=\u001b[0m\u001b[0;32mNone\u001b[0m\u001b[0;34m,\u001b[0m \u001b[0minplace\u001b[0m\u001b[0;34m=\u001b[0m\u001b[0;32mFalse\u001b[0m\u001b[0;34m)\u001b[0m\u001b[0;34m:\u001b[0m\u001b[0;34m\u001b[0m\u001b[0;34m\u001b[0m\u001b[0m\n",
      "\u001b[0;32m~/anaconda3/lib/python3.7/site-packages/geopandas/io/file.py\u001b[0m in \u001b[0;36mto_file\u001b[0;34m(df, filename, driver, schema, index, **kwargs)\u001b[0m\n\u001b[1;32m    177\u001b[0m         \u001b[0mdf\u001b[0m \u001b[0;34m=\u001b[0m \u001b[0mdf\u001b[0m\u001b[0;34m.\u001b[0m\u001b[0mreset_index\u001b[0m\u001b[0;34m(\u001b[0m\u001b[0mdrop\u001b[0m\u001b[0;34m=\u001b[0m\u001b[0;32mFalse\u001b[0m\u001b[0;34m)\u001b[0m\u001b[0;34m\u001b[0m\u001b[0;34m\u001b[0m\u001b[0m\n\u001b[1;32m    178\u001b[0m     \u001b[0;32mif\u001b[0m \u001b[0mschema\u001b[0m \u001b[0;32mis\u001b[0m \u001b[0;32mNone\u001b[0m\u001b[0;34m:\u001b[0m\u001b[0;34m\u001b[0m\u001b[0;34m\u001b[0m\u001b[0m\n\u001b[0;32m--> 179\u001b[0;31m         \u001b[0mschema\u001b[0m \u001b[0;34m=\u001b[0m \u001b[0minfer_schema\u001b[0m\u001b[0;34m(\u001b[0m\u001b[0mdf\u001b[0m\u001b[0;34m)\u001b[0m\u001b[0;34m\u001b[0m\u001b[0;34m\u001b[0m\u001b[0m\n\u001b[0m\u001b[1;32m    180\u001b[0m     \u001b[0;32mwith\u001b[0m \u001b[0mfiona_env\u001b[0m\u001b[0;34m(\u001b[0m\u001b[0;34m)\u001b[0m\u001b[0;34m:\u001b[0m\u001b[0;34m\u001b[0m\u001b[0;34m\u001b[0m\u001b[0m\n\u001b[1;32m    181\u001b[0m         \u001b[0mcrs_wkt\u001b[0m \u001b[0;34m=\u001b[0m \u001b[0;32mNone\u001b[0m\u001b[0;34m\u001b[0m\u001b[0;34m\u001b[0m\u001b[0m\n",
      "\u001b[0;32m~/anaconda3/lib/python3.7/site-packages/geopandas/io/file.py\u001b[0m in \u001b[0;36minfer_schema\u001b[0;34m(df)\u001b[0m\n\u001b[1;32m    233\u001b[0m     \u001b[0;31m# Since https://github.com/Toblerity/Fiona/issues/446 resolution,\u001b[0m\u001b[0;34m\u001b[0m\u001b[0;34m\u001b[0m\u001b[0;34m\u001b[0m\u001b[0m\n\u001b[1;32m    234\u001b[0m     \u001b[0;31m# Fiona allows a list of geometry types\u001b[0m\u001b[0;34m\u001b[0m\u001b[0;34m\u001b[0m\u001b[0;34m\u001b[0m\u001b[0m\n\u001b[0;32m--> 235\u001b[0;31m     \u001b[0mgeom_types\u001b[0m \u001b[0;34m=\u001b[0m \u001b[0m_geometry_types\u001b[0m\u001b[0;34m(\u001b[0m\u001b[0mdf\u001b[0m\u001b[0;34m)\u001b[0m\u001b[0;34m\u001b[0m\u001b[0;34m\u001b[0m\u001b[0m\n\u001b[0m\u001b[1;32m    236\u001b[0m \u001b[0;34m\u001b[0m\u001b[0m\n\u001b[1;32m    237\u001b[0m     \u001b[0mschema\u001b[0m \u001b[0;34m=\u001b[0m \u001b[0;34m{\u001b[0m\u001b[0;34m\"geometry\"\u001b[0m\u001b[0;34m:\u001b[0m \u001b[0mgeom_types\u001b[0m\u001b[0;34m,\u001b[0m \u001b[0;34m\"properties\"\u001b[0m\u001b[0;34m:\u001b[0m \u001b[0mproperties\u001b[0m\u001b[0;34m}\u001b[0m\u001b[0;34m\u001b[0m\u001b[0;34m\u001b[0m\u001b[0m\n",
      "\u001b[0;32m~/anaconda3/lib/python3.7/site-packages/geopandas/io/file.py\u001b[0m in \u001b[0;36m_geometry_types\u001b[0;34m(df)\u001b[0m\n\u001b[1;32m    250\u001b[0m         \u001b[0;31m# - Shape and MultiShape types can (and must) coexist in inferred\u001b[0m\u001b[0;34m\u001b[0m\u001b[0;34m\u001b[0m\u001b[0;34m\u001b[0m\u001b[0m\n\u001b[1;32m    251\u001b[0m         \u001b[0;31m#   schema\u001b[0m\u001b[0;34m\u001b[0m\u001b[0;34m\u001b[0m\u001b[0;34m\u001b[0m\u001b[0m\n\u001b[0;32m--> 252\u001b[0;31m         \u001b[0mgeom_types_2D\u001b[0m \u001b[0;34m=\u001b[0m \u001b[0mdf\u001b[0m\u001b[0;34m[\u001b[0m\u001b[0;34m~\u001b[0m\u001b[0mdf\u001b[0m\u001b[0;34m.\u001b[0m\u001b[0mgeometry\u001b[0m\u001b[0;34m.\u001b[0m\u001b[0mhas_z\u001b[0m\u001b[0;34m]\u001b[0m\u001b[0;34m.\u001b[0m\u001b[0mgeometry\u001b[0m\u001b[0;34m.\u001b[0m\u001b[0mgeom_type\u001b[0m\u001b[0;34m.\u001b[0m\u001b[0munique\u001b[0m\u001b[0;34m(\u001b[0m\u001b[0;34m)\u001b[0m\u001b[0;34m\u001b[0m\u001b[0;34m\u001b[0m\u001b[0m\n\u001b[0m\u001b[1;32m    253\u001b[0m         \u001b[0mgeom_types_2D\u001b[0m \u001b[0;34m=\u001b[0m \u001b[0;34m[\u001b[0m\u001b[0mgtype\u001b[0m \u001b[0;32mfor\u001b[0m \u001b[0mgtype\u001b[0m \u001b[0;32min\u001b[0m \u001b[0mgeom_types_2D\u001b[0m \u001b[0;32mif\u001b[0m \u001b[0mgtype\u001b[0m \u001b[0;32mis\u001b[0m \u001b[0;32mnot\u001b[0m \u001b[0;32mNone\u001b[0m\u001b[0;34m]\u001b[0m\u001b[0;34m\u001b[0m\u001b[0;34m\u001b[0m\u001b[0m\n\u001b[1;32m    254\u001b[0m         \u001b[0mgeom_types_3D\u001b[0m \u001b[0;34m=\u001b[0m \u001b[0mdf\u001b[0m\u001b[0;34m[\u001b[0m\u001b[0mdf\u001b[0m\u001b[0;34m.\u001b[0m\u001b[0mgeometry\u001b[0m\u001b[0;34m.\u001b[0m\u001b[0mhas_z\u001b[0m\u001b[0;34m]\u001b[0m\u001b[0;34m.\u001b[0m\u001b[0mgeometry\u001b[0m\u001b[0;34m.\u001b[0m\u001b[0mgeom_type\u001b[0m\u001b[0;34m.\u001b[0m\u001b[0munique\u001b[0m\u001b[0;34m(\u001b[0m\u001b[0;34m)\u001b[0m\u001b[0;34m\u001b[0m\u001b[0;34m\u001b[0m\u001b[0m\n",
      "\u001b[0;32m~/anaconda3/lib/python3.7/site-packages/pandas/core/generic.py\u001b[0m in \u001b[0;36m__getattr__\u001b[0;34m(self, name)\u001b[0m\n\u001b[1;32m   5065\u001b[0m             \u001b[0;32mif\u001b[0m \u001b[0mself\u001b[0m\u001b[0;34m.\u001b[0m\u001b[0m_info_axis\u001b[0m\u001b[0;34m.\u001b[0m\u001b[0m_can_hold_identifiers_and_holds_name\u001b[0m\u001b[0;34m(\u001b[0m\u001b[0mname\u001b[0m\u001b[0;34m)\u001b[0m\u001b[0;34m:\u001b[0m\u001b[0;34m\u001b[0m\u001b[0;34m\u001b[0m\u001b[0m\n\u001b[1;32m   5066\u001b[0m                 \u001b[0;32mreturn\u001b[0m \u001b[0mself\u001b[0m\u001b[0;34m[\u001b[0m\u001b[0mname\u001b[0m\u001b[0;34m]\u001b[0m\u001b[0;34m\u001b[0m\u001b[0;34m\u001b[0m\u001b[0m\n\u001b[0;32m-> 5067\u001b[0;31m             \u001b[0;32mreturn\u001b[0m \u001b[0mobject\u001b[0m\u001b[0;34m.\u001b[0m\u001b[0m__getattribute__\u001b[0m\u001b[0;34m(\u001b[0m\u001b[0mself\u001b[0m\u001b[0;34m,\u001b[0m \u001b[0mname\u001b[0m\u001b[0;34m)\u001b[0m\u001b[0;34m\u001b[0m\u001b[0;34m\u001b[0m\u001b[0m\n\u001b[0m\u001b[1;32m   5068\u001b[0m \u001b[0;34m\u001b[0m\u001b[0m\n\u001b[1;32m   5069\u001b[0m     \u001b[0;32mdef\u001b[0m \u001b[0m__setattr__\u001b[0m\u001b[0;34m(\u001b[0m\u001b[0mself\u001b[0m\u001b[0;34m,\u001b[0m \u001b[0mname\u001b[0m\u001b[0;34m,\u001b[0m \u001b[0mvalue\u001b[0m\u001b[0;34m)\u001b[0m\u001b[0;34m:\u001b[0m\u001b[0;34m\u001b[0m\u001b[0;34m\u001b[0m\u001b[0m\n",
      "\u001b[0;32m~/anaconda3/lib/python3.7/site-packages/geopandas/geodataframe.py\u001b[0m in \u001b[0;36m_get_geometry\u001b[0;34m(self)\u001b[0m\n\u001b[1;32m    101\u001b[0m             raise AttributeError(\n\u001b[1;32m    102\u001b[0m                 \u001b[0;34m\"No geometry data set yet (expected in\"\u001b[0m\u001b[0;34m\u001b[0m\u001b[0;34m\u001b[0m\u001b[0m\n\u001b[0;32m--> 103\u001b[0;31m                 \u001b[0;34m\" column '%s'.\"\u001b[0m \u001b[0;34m%\u001b[0m \u001b[0mself\u001b[0m\u001b[0;34m.\u001b[0m\u001b[0m_geometry_column_name\u001b[0m\u001b[0;34m\u001b[0m\u001b[0;34m\u001b[0m\u001b[0m\n\u001b[0m\u001b[1;32m    104\u001b[0m             )\n\u001b[1;32m    105\u001b[0m         \u001b[0;32mreturn\u001b[0m \u001b[0mself\u001b[0m\u001b[0;34m[\u001b[0m\u001b[0mself\u001b[0m\u001b[0;34m.\u001b[0m\u001b[0m_geometry_column_name\u001b[0m\u001b[0;34m]\u001b[0m\u001b[0;34m\u001b[0m\u001b[0;34m\u001b[0m\u001b[0m\n",
      "\u001b[0;31mAttributeError\u001b[0m: No geometry data set yet (expected in column 'geometry'."
     ]
    }
   ],
   "source": [
    "gdf.to_file(\"countries.shp\")"
   ]
  },
  {
   "cell_type": "code",
   "execution_count": null,
   "metadata": {},
   "outputs": [],
   "source": []
  }
 ],
 "metadata": {
  "kernelspec": {
   "display_name": "Python 3",
   "language": "python",
   "name": "python3"
  },
  "language_info": {
   "codemirror_mode": {
    "name": "ipython",
    "version": 3
   },
   "file_extension": ".py",
   "mimetype": "text/x-python",
   "name": "python",
   "nbconvert_exporter": "python",
   "pygments_lexer": "ipython3",
   "version": "3.7.3"
  }
 },
 "nbformat": 4,
 "nbformat_minor": 2
}
